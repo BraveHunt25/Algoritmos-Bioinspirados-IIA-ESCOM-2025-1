{
 "cells": [
  {
   "cell_type": "markdown",
   "metadata": {},
   "source": [
    "# Práctica 2. Regresión simbólica\n",
    "## Algoritmos bioinspirados\n",
    "**Hernández Jiménez Erick Yael**\n",
    "Úlima modificación: 16 de octubre de 2024"
   ]
  },
  {
   "cell_type": "markdown",
   "metadata": {},
   "source": [
    "# Ejemplo base\n",
    "Como parte de la práctica, el ejemplo del algoritmo será la base del desarrollo del resto. El ejemplo es el que se da a continuación:"
   ]
  },
  {
   "cell_type": "code",
   "execution_count": 1,
   "metadata": {},
   "outputs": [],
   "source": [
    "#    This file is part of EAP.\n",
    "#\n",
    "#    EAP is free software: you can redistribute it and/or modify\n",
    "#    it under the terms of the GNU Lesser General Public License as\n",
    "#    published by the Free Software Foundation, either version 3 of\n",
    "#    the License, or (at your option) any later version.\n",
    "#\n",
    "#    EAP is distributed in the hope that it will be useful,\n",
    "#    but WITHOUT ANY WARRANTY; without even the implied warranty of\n",
    "#    MERCHANTABILITY or FITNESS FOR A PARTICULAR PURPOSE. See the\n",
    "#    GNU Lesser General Public License for more details.\n",
    "#\n",
    "#    You should have received a copy of the GNU Lesser General Public\n",
    "#    License along with EAP. If not, see <http://www.gnu.org/licenses/>."
   ]
  },
  {
   "cell_type": "markdown",
   "metadata": {},
   "source": [
    "## Bibliotecas usadas"
   ]
  },
  {
   "cell_type": "code",
   "execution_count": 2,
   "metadata": {},
   "outputs": [],
   "source": [
    "# Bibliotecas usadas\n",
    "import operator\n",
    "import math\n",
    "import random\n",
    "\n",
    "import numpy\n",
    "\n",
    "from functools import partial\n",
    "\n",
    "from deap import algorithms\n",
    "from deap import base\n",
    "from deap import creator\n",
    "from deap import tools\n",
    "from deap import gp"
   ]
  },
  {
   "cell_type": "markdown",
   "metadata": {},
   "source": [
    "## Definiciones y tipos"
   ]
  },
  {
   "cell_type": "markdown",
   "metadata": {},
   "source": [
    "### Protección contra división entre 0\n",
    "Para evitar que la división entre cero colapse al programa, se define la operación manualmente"
   ]
  },
  {
   "cell_type": "code",
   "execution_count": 3,
   "metadata": {},
   "outputs": [],
   "source": [
    "# Define nuevas funciones\n",
    "# Función centinela para proteger contra la división del cero\n",
    "def protectedDiv(left, right):\n",
    "    try:\n",
    "        return left / right\n",
    "    except ZeroDivisionError:\n",
    "        return 1"
   ]
  },
  {
   "cell_type": "markdown",
   "metadata": {},
   "source": [
    "### Definición de primitivas\n",
    "Para aplicar los algoritmos genéticos de `gp`, usaremos los tipos de datos primitivos construidos. En este caso, definiremos como tipo de dato el primitivo de un set para posteriormente definir lo necesario para nuestro programa. Esto lo hacemos con una variable .\n",
    "\n",
    "Adicionalmente, definiremos las funciones primitivas de suma, resta, multiplicación, división, negación, coseno y seno (_add_, _sub_, _mul_, _protectedDiv_, _neg_, _cos_ y _sin_ respectivamente) para agregarlas al tipo primitivo de, en este caso, `pset`.\n",
    "\n",
    "Cada línea que usa la función `addPrimitive` tiene los siguientes argumentos:\n",
    "- _primitiva del operador_: función primitiva que agregamos a la clase\n",
    "- _aridad_: número de argumentos.\n",
    "\n",
    "También se agrega una _constante_ dinámica (se genera cada que se invoca) con el nombre \"rand101\" y que se inicializa con un valor aleatorio entre -1 y 1.\n",
    "\n",
    "Finalmente, para mayor legibilidad, se le asigna al primer argumento el nombre de 'x'"
   ]
  },
  {
   "cell_type": "code",
   "execution_count": 4,
   "metadata": {},
   "outputs": [],
   "source": [
    "# Definición de primitivas\n",
    "pset = gp.PrimitiveSet(\"MAIN\", 1)\n",
    "pset.addPrimitive(operator.add, 2)\n",
    "pset.addPrimitive(operator.sub, 2)\n",
    "pset.addPrimitive(operator.mul, 2)\n",
    "pset.addPrimitive(protectedDiv, 2)\n",
    "pset.addPrimitive(operator.neg, 1)\n",
    "pset.addPrimitive(math.cos, 1)\n",
    "pset.addPrimitive(math.sin, 1)\n",
    "pset.addEphemeralConstant(\"rand101\", partial(random.randint, -1, 1))\n",
    "pset.renameArguments(ARG0='x')"
   ]
  },
  {
   "cell_type": "markdown",
   "metadata": {},
   "source": [
    "Ahora se crean las clases con la que se va a evaluar la población, en este caso, para minimizar la distancia entre la población y la función objetivo.\n",
    "\n",
    "`Creator` es el módulo que nos ayuda a crear clases a partir de clases primitivas. El primer argumento nombra la clase, el segundo la clase primitiva base con la que se crea, el resto de argumentos son atributos que se irán adicionando a la clase. En este caso, `weights` es igual a una tupla con el valor `(-1.0,)` que nos indica que queremos minimizar para la clase `FitnessMin`. Para la clase `Individual`, la clase base es un árbol y les asignamos la clase anteriormente creada."
   ]
  },
  {
   "cell_type": "code",
   "execution_count": 5,
   "metadata": {},
   "outputs": [],
   "source": [
    "creator.create(\"FitnessMin\", base.Fitness, weights=(-1.0,))\n",
    "creator.create(\"Individual\", gp.PrimitiveTree, fitness=creator.FitnessMin)"
   ]
  },
  {
   "cell_type": "markdown",
   "metadata": {},
   "source": [
    "Se creará la clase con la que se manejará el algoritmo genético en la variable `toolbox` que deriva de la clase `base.Toolbox`. Luego agregamos iterables para generar los individuos y la población con los argumentos necesarios. Finalmente generamos la función para que el compilador de Python pueda interpretar los iterables y las clases creadas."
   ]
  },
  {
   "cell_type": "code",
   "execution_count": 6,
   "metadata": {},
   "outputs": [],
   "source": [
    "toolbox = base.Toolbox()\n",
    "toolbox.register(\"expr\", gp.genHalfAndHalf, pset=pset, min_=1, max_=2)\n",
    "toolbox.register(\"individual\", tools.initIterate, creator.Individual, toolbox.expr)\n",
    "toolbox.register(\"population\", tools.initRepeat, list, toolbox.individual)\n",
    "toolbox.register(\"compile\", gp.compile, pset=pset)"
   ]
  },
  {
   "cell_type": "markdown",
   "metadata": {},
   "source": [
    "Luego definimos la función que evaluará los individuos por su _fitness_, el cual compila al individuo y luego eleva al cuadrado la diferencia entre el resultado del individuo y la función objetivo y regresamos el error medio."
   ]
  },
  {
   "cell_type": "code",
   "execution_count": 7,
   "metadata": {},
   "outputs": [],
   "source": [
    "def evalSymbReg(individual, points):\n",
    "    # Transform the tree expression in a callable function\n",
    "    func = toolbox.compile(expr=individual)\n",
    "    # Evaluate the mean squared error between the expression\n",
    "    # and the real function : x**4 + x**3 + x**2 + x\n",
    "    sqerrors = ((func(x) - x**4 - x**3 - x**2 - x)**2 for x in points)\n",
    "    return math.fsum(sqerrors) / len(points),"
   ]
  },
  {
   "cell_type": "markdown",
   "metadata": {},
   "source": [
    "Registramos las funciones relacionadas directamente con el algoritmo genético. Primero se asocia el iterable `[x/10. for x in range(-10,10)]` con los puntos de la evaluación a la función \"evalSymbReg\". Luego asociamos la selección por torneo de tamaño 3 a la función \"select\". Posteriormente, el método de cruza a la función \"mate\" con el método de cruza por un punto. Continuando, la función *\"expr_mut\"* generará árboles completos (_genFull_) con máximo 2 niveles dependiendo de sus atributos. Finalmente asociamos la función de mutación uniforme a la función _\"mutate\"_."
   ]
  },
  {
   "cell_type": "code",
   "execution_count": 8,
   "metadata": {},
   "outputs": [],
   "source": [
    "toolbox.register(\"evaluate\", evalSymbReg, points=[x/10. for x in range(-10,10)])\n",
    "toolbox.register(\"select\", tools.selTournament, tournsize=3)\n",
    "toolbox.register(\"mate\", gp.cxOnePoint)\n",
    "toolbox.register(\"expr_mut\", gp.genFull, min_=0, max_=2)\n",
    "toolbox.register(\"mutate\", gp.mutUniform, expr=toolbox.expr_mut, pset=pset)"
   ]
  },
  {
   "cell_type": "markdown",
   "metadata": {},
   "source": [
    "Por último definimos límites de mutación y de cruza debido a la estructura de los individuos como árboles. Esto es relevante para evitar que se estanque la búsqueda."
   ]
  },
  {
   "cell_type": "code",
   "execution_count": 9,
   "metadata": {},
   "outputs": [],
   "source": [
    "toolbox.decorate(\"mate\", gp.staticLimit(key=operator.attrgetter(\"height\"), max_value=17))\n",
    "toolbox.decorate(\"mutate\", gp.staticLimit(key=operator.attrgetter(\"height\"), max_value=17))"
   ]
  },
  {
   "cell_type": "markdown",
   "metadata": {},
   "source": [
    "Ahora se ejecuta el algoritmo genético"
   ]
  },
  {
   "cell_type": "code",
   "execution_count": 10,
   "metadata": {},
   "outputs": [
    {
     "name": "stdout",
     "output_type": "stream",
     "text": [
      "   \t      \t                        fitness                        \t                      size                     \n",
      "   \t      \t-------------------------------------------------------\t-----------------------------------------------\n",
      "gen\tnevals\tavg    \tgen\tmax  \tmin     \tnevals\tstd    \tavg    \tgen\tmax\tmin\tnevals\tstd    \n",
      "0  \t300   \t1.78879\t0  \t30.34\t0.450825\t300   \t2.67896\t3.54667\t0  \t7  \t2  \t300   \t1.49482\n",
      "1  \t166   \t1.43254\t1  \t44.4437\t0.183711\t166   \t3.05668\t3.60667\t1  \t12 \t1  \t166   \t1.77725\n",
      "2  \t166   \t2.16879\t2  \t315.736\t0.165572\t166   \t18.1873\t3.55   \t2  \t9  \t1  \t166   \t1.62506\n",
      "3  \t163   \t0.98255\t3  \t2.9829 \t0.165572\t163   \t0.712666\t3.42667\t3  \t9  \t1  \t163   \t1.45073\n",
      "4  \t153   \t0.836017\t4  \t14.538 \t0.165572\t153   \t0.979399\t3.77   \t4  \t11 \t1  \t153   \t1.64025\n",
      "5  \t158   \t0.944635\t5  \t18.9739\t0.165572\t158   \t1.61614 \t3.77667\t5  \t10 \t1  \t158   \t1.62894\n",
      "6  \t169   \t0.885819\t6  \t14.2181\t0.165572\t169   \t1.00296 \t4      \t6  \t10 \t1  \t169   \t1.87617\n",
      "7  \t167   \t0.731332\t7  \t3.35292\t0.165572\t167   \t0.56016 \t4.35   \t7  \t10 \t1  \t167   \t1.92722\n",
      "8  \t187   \t0.785916\t8  \t19.1852\t0.13008 \t187   \t1.2426  \t5.13667\t8  \t14 \t1  \t187   \t2.21465\n",
      "9  \t176   \t0.672788\t9  \t14.2339\t0.123719\t176   \t1.00764 \t5.71667\t9  \t14 \t1  \t176   \t2.48389\n",
      "10 \t176   \t0.786975\t10 \t32.4952\t0.123719\t176   \t2.56679 \t6.27333\t10 \t15 \t1  \t176   \t2.33922\n",
      "11 \t167   \t0.961666\t11 \t62.7581\t0.123719\t167   \t4.10149 \t6.75667\t11 \t16 \t1  \t167   \t2.30162\n",
      "12 \t170   \t0.630202\t12 \t18.7613\t0.114276\t170   \t1.55098 \t7.06333\t12 \t16 \t1  \t170   \t2.55199\n",
      "13 \t173   \t0.792442\t13 \t18.7749\t0.114276\t173   \t2.0836  \t7.07333\t13 \t17 \t1  \t173   \t2.3212 \n",
      "14 \t163   \t0.701482\t14 \t16.5323\t0.0935121\t163   \t1.92386 \t7.01   \t14 \t16 \t1  \t163   \t2.74042\n",
      "15 \t178   \t0.796168\t15 \t63.2953\t0.0935121\t178   \t3.82723 \t7.42333\t15 \t17 \t1  \t178   \t3.11942\n",
      "16 \t154   \t0.446513\t16 \t19.0443\t0.0512969\t154   \t1.18016 \t7.73333\t16 \t17 \t1  \t154   \t3.35095\n",
      "17 \t177   \t0.378618\t17 \t4.88791\t0.0512969\t177   \t0.470854\t9.01   \t17 \t22 \t1  \t177   \t3.68464\n",
      "18 \t177   \t0.394816\t18 \t2.552  \t0.0512969\t177   \t0.45627 \t10.14  \t18 \t23 \t2  \t177   \t3.86097\n",
      "19 \t175   \t0.347051\t19 \t2.84707\t0.0147194\t175   \t0.428075\t11     \t19 \t24 \t1  \t175   \t4.21347\n",
      "20 \t167   \t0.370537\t20 \t18.9739\t0.0147194\t167   \t1.15424 \t11.6   \t20 \t25 \t3  \t167   \t4.13441\n",
      "21 \t159   \t0.302206\t21 \t2.54483\t0.0147194\t159   \t0.36307 \t12.78  \t21 \t33 \t1  \t159   \t5.04298\n",
      "22 \t161   \t0.329424\t22 \t5.15351\t0.014539 \t161   \t0.494736\t14.1033\t22 \t32 \t1  \t161   \t5.23762\n",
      "23 \t165   \t0.464998\t23 \t18.9739\t0.0147194\t165   \t1.51044 \t14.8933\t23 \t34 \t1  \t165   \t6.13259\n",
      "24 \t188   \t0.271713\t24 \t3.71933\t0.0147194\t188   \t0.436801\t15.0867\t24 \t34 \t2  \t188   \t6.25719\n",
      "25 \t152   \t0.269631\t25 \t14.5905\t0.0147194\t152   \t0.88428 \t15.22  \t25 \t47 \t1  \t152   \t6.49602\n",
      "26 \t164   \t0.230995\t26 \t4.4082 \t0.0147194\t164   \t0.436685\t16.0633\t26 \t41 \t3  \t164   \t6.52171\n",
      "27 \t159   \t0.185306\t27 \t5.249  \t0.0144201\t159   \t0.410217\t17.2333\t27 \t40 \t1  \t159   \t6.7111 \n",
      "28 \t164   \t0.165298\t28 \t1.98267\t0.0143442\t164   \t0.292591\t18.3   \t28 \t43 \t1  \t164   \t7.23763\n",
      "29 \t174   \t0.172642\t29 \t2.54124\t0.00182347\t174   \t0.352515\t18.33  \t29 \t37 \t1  \t174   \t6.69037\n",
      "30 \t141   \t0.10727 \t30 \t2.61126\t0.00182347\t141   \t0.241954\t19.3   \t30 \t37 \t3  \t141   \t5.483  \n",
      "31 \t154   \t0.129872\t31 \t2.18033\t0.00182347\t154   \t0.269947\t19.7933\t31 \t39 \t3  \t154   \t5.94788\n",
      "32 \t165   \t0.129453\t32 \t2.54124\t0.00182347\t165   \t0.287201\t20.2867\t32 \t43 \t1  \t165   \t6.5175 \n",
      "33 \t173   \t0.16656 \t33 \t2.54124\t0.00182347\t173   \t0.341339\t20.5633\t33 \t43 \t1  \t173   \t7.38823\n",
      "34 \t168   \t0.131975\t34 \t1.52568\t0.00182347\t168   \t0.232491\t20.4233\t34 \t48 \t3  \t168   \t7.45637\n",
      "35 \t153   \t0.152313\t35 \t2.54124\t0.00182347\t153   \t0.324276\t19.82  \t35 \t43 \t2  \t153   \t7.13589\n",
      "36 \t178   \t0.237937\t36 \t16.1106\t0.00182347\t178   \t0.990786\t19.11  \t36 \t43 \t3  \t178   \t7.68318\n",
      "37 \t157   \t0.185061\t37 \t4.76458\t0.00182347\t157   \t0.449021\t18.3667\t37 \t39 \t1  \t157   \t6.31128\n",
      "38 \t184   \t0.185972\t38 \t4.09456\t5.12297e-33\t184   \t0.358825\t17.4767\t38 \t48 \t1  \t184   \t7.37899\n",
      "39 \t149   \t0.193025\t39 \t2.9829 \t5.12297e-33\t149   \t0.377824\t16.87  \t39 \t35 \t1  \t149   \t5.85205\n",
      "40 \t161   \t0.127091\t40 \t1.59859\t5.12297e-33\t161   \t0.216044\t16.4767\t40 \t36 \t1  \t161   \t6.14948\n"
     ]
    }
   ],
   "source": [
    "# Ejecución de algoritmo completo\n",
    "def main():\n",
    "    # Se genera una semilla para generar la población\n",
    "    random.seed(318)\n",
    "\n",
    "    # Se genera la población a partir de la semilla con 300 individuos\n",
    "    pop = toolbox.population(n=300)\n",
    "    # Se genera una variable para almacenar los mejores individuos\n",
    "    hof = tools.HallOfFame(1)\n",
    "\n",
    "    # Se generan las estadísticas de la evaluación de los individuos en la función de costo\n",
    "    stats_fit = tools.Statistics(lambda ind: ind.fitness.values)\n",
    "    stats_size = tools.Statistics(len)  # Se calcula la longitud de las estadísticas generadas\n",
    "    # Genera un contenedor para almacenar las estadísticas de los individuos\n",
    "    mstats = tools.MultiStatistics(fitness=stats_fit, size=stats_size)\n",
    "    mstats.register(\"avg\", numpy.mean)  # Asocia el cálculo de la media a la función \"avg\"\n",
    "    mstats.register(\"std\", numpy.std)   # Asocia el cálculo de desviación estándar a la función \"std\"\n",
    "    mstats.register(\"min\", numpy.min)   # Asocia el cálculo del mínimo a la función \"min\"\n",
    "    mstats.register(\"max\", numpy.max)   # Asocia el cálculo del máximo a la función \"max\"\n",
    "\n",
    "    ''' \n",
    "    Genera la nueva población y el registro de población al algoritmo de evolución simple con la población generada, las funciones para el algoritmo\n",
    "    la probabilidad de cruza, la probabilidad de mutación, el número de generaciones, el contenedor de estadísticas, el contenedor de mejores\n",
    "    individuos y con la opción de verbalizar el proceso\n",
    "    ''' \n",
    "    pop, log = algorithms.eaSimple(pop, toolbox, 0.5, 0.1, 40, stats=mstats,\n",
    "                                   halloffame=hof, verbose=True)\n",
    "    # print log\n",
    "    return pop, log, hof\n",
    "\n",
    "if __name__ == \"__main__\":\n",
    "    main()"
   ]
  },
  {
   "cell_type": "markdown",
   "metadata": {},
   "source": [
    "# Modificaciones"
   ]
  },
  {
   "cell_type": "markdown",
   "metadata": {},
   "source": [
    "La modificación solicitada involucra cambiar la regresión para que sea bidimensional (dominio: $\\R^2$) en vez de unidimensional (dominio: $\\R$). La forma de la función es:\n",
    "$$x^3 * 5y^2 + \\frac{x}{2}$$"
   ]
  },
  {
   "cell_type": "markdown",
   "metadata": {},
   "source": [
    "Primero importamos las bibliotecas usadas en el ejemplo anterior"
   ]
  },
  {
   "cell_type": "code",
   "execution_count": 1,
   "metadata": {},
   "outputs": [],
   "source": [
    "import operator\n",
    "import math\n",
    "import random\n",
    "\n",
    "import numpy\n",
    "\n",
    "from functools import partial\n",
    "\n",
    "from deap import algorithms\n",
    "from deap import base\n",
    "from deap import creator\n",
    "from deap import tools\n",
    "from deap import gp"
   ]
  },
  {
   "cell_type": "markdown",
   "metadata": {},
   "source": [
    "Agregamos la misma función de división"
   ]
  },
  {
   "cell_type": "code",
   "execution_count": 2,
   "metadata": {},
   "outputs": [],
   "source": [
    "def protectedDiv(left, right):\n",
    "    try:\n",
    "        return left / right\n",
    "    except ZeroDivisionError:\n",
    "        return 1"
   ]
  },
  {
   "cell_type": "markdown",
   "metadata": {},
   "source": [
    "Estableceremos nuestra clase para soportar 2 valores"
   ]
  },
  {
   "cell_type": "code",
   "execution_count": 3,
   "metadata": {},
   "outputs": [],
   "source": [
    "# Definición de primitivas\n",
    "pset_2 = gp.PrimitiveSet(\"2VAR\", 2)\n",
    "pset_2.addPrimitive(operator.sub, 2)\n",
    "pset_2.addPrimitive(operator.mul, 2)\n",
    "pset_2.addPrimitive(protectedDiv, 2)\n",
    "pset_2.addPrimitive(operator.neg, 1)\n",
    "pset_2.addPrimitive(math.cos, 1)\n",
    "pset_2.addPrimitive(math.sin, 1)\n",
    "pset_2.addEphemeralConstant(\"rand505\", partial(random.randint, -5, 5))\n",
    "pset_2.renameArguments(ARG0='x', ARG1='y')"
   ]
  },
  {
   "cell_type": "markdown",
   "metadata": {},
   "source": [
    "Mantendremos la configuración de las funciones de ajuste y construcción de los individuos"
   ]
  },
  {
   "cell_type": "code",
   "execution_count": 4,
   "metadata": {},
   "outputs": [],
   "source": [
    "creator.create(\"FitnessMin2\", base.Fitness, weights=(-1.0,))\n",
    "creator.create(\"Individual2\", gp.PrimitiveTree, fitness=creator.FitnessMin2)"
   ]
  },
  {
   "cell_type": "markdown",
   "metadata": {},
   "source": [
    "Definimos las mismas clases y funciones asociadas a la clase de los individuos"
   ]
  },
  {
   "cell_type": "code",
   "execution_count": 5,
   "metadata": {},
   "outputs": [],
   "source": [
    "toolbox2 = base.Toolbox()\n",
    "toolbox2.register(\"expr\", gp.genHalfAndHalf, pset=pset_2, min_=1, max_=2)\n",
    "toolbox2.register(\"individual2\", tools.initIterate, creator.Individual2, toolbox2.expr)\n",
    "toolbox2.register(\"population2\", tools.initRepeat, list, toolbox2.individual2)\n",
    "toolbox2.register(\"compile\", gp.compile, pset=pset_2)"
   ]
  },
  {
   "cell_type": "markdown",
   "metadata": {},
   "source": [
    "Definimos la función de coste"
   ]
  },
  {
   "cell_type": "code",
   "execution_count": 6,
   "metadata": {},
   "outputs": [],
   "source": [
    "def evalSymbReg(individual, points):\n",
    "    func2 = toolbox2.compile(expr=individual)\n",
    "    # La función de coste es: x**3 * 5y**2 + x/2\n",
    "    sqerrors = [(func2(x, y) - (x**3 * 5 * y**2 + x/2))**2 for x, y in points]\n",
    "    return math.fsum(sqerrors) / len(points),                                    # Cambiamos la suma para obtener funcionalidad a costa de precisión"
   ]
  },
  {
   "cell_type": "markdown",
   "metadata": {},
   "source": [
    "Agregamos las funciones para el algoritmo genético"
   ]
  },
  {
   "cell_type": "code",
   "execution_count": 7,
   "metadata": {},
   "outputs": [],
   "source": [
    "toolbox2.register(\"evaluate\", evalSymbReg, points=[(x/10., y/10.) for x in range(-5,5) for y in range(-5,5)])       # Se cambian los rangos para evitar desbordamiento de memoria\n",
    "toolbox2.register(\"select\", tools.selTournament, tournsize=3 )                                      # Se usó ruleta pero se desborda la memoria por los cálculos intermedios\n",
    "toolbox2.register(\"mate\", gp.cxOnePoint)\n",
    "toolbox2.register(\"expr_mut\", gp.genFull, min_=0, max_=2)                           # se mantiene corto para evitar más errores de los necesarios\n",
    "toolbox2.register(\"mutate\", gp.mutUniform, expr=toolbox2.expr_mut, pset=pset_2)"
   ]
  },
  {
   "cell_type": "markdown",
   "metadata": {},
   "source": [
    "Por último agregamos los límites en la generación"
   ]
  },
  {
   "cell_type": "code",
   "execution_count": 8,
   "metadata": {},
   "outputs": [],
   "source": [
    "toolbox2.decorate(\"mate\", gp.staticLimit(key=operator.attrgetter(\"height\"), max_value=17))\n",
    "toolbox2.decorate(\"mutate\", gp.staticLimit(key=operator.attrgetter(\"height\"), max_value=17))"
   ]
  },
  {
   "cell_type": "markdown",
   "metadata": {},
   "source": [
    "Juntamos la funcionalidad de todo lo anterior en el algoritmo evolutivo"
   ]
  },
  {
   "cell_type": "code",
   "execution_count": 9,
   "metadata": {},
   "outputs": [
    {
     "name": "stdout",
     "output_type": "stream",
     "text": [
      "   \t      \t                        fitness                        \t                      size                     \n",
      "   \t      \t-------------------------------------------------------\t-----------------------------------------------\n",
      "gen\tnevals\tavg   \tgen\tmax    \tmin       \tnevals\tstd    \tavg    \tgen\tmax\tmin\tnevals\tstd    \n",
      "0  \t300   \t109.69\t0  \t19432.8\t0.00509615\t300   \t1215.99\t3.49333\t0  \t7  \t2  \t300   \t1.51106\n",
      "1  \t174   \t49678.2\t1  \t1.83118e+06\t0.00899175\t174   \t258758 \t5.72667\t1  \t13 \t1  \t174   \t1.57225\n",
      "2  \t170   \t8.43107e+07\t2  \t1.80179e+10\t0.00546705\t170   \t1.08023e+09\t7.48   \t2  \t13 \t2  \t170   \t1.45474\n",
      "3  \t156   \t3.60824e+16\t3  \t1.80001e+18\t0.116431  \t156   \t2.51992e+17\t11.5433\t3  \t20 \t2  \t156   \t2.76914\n",
      "4  \t163   \t1.80612e+32\t4  \t1.8e+34    \t1.08839   \t163   \t1.79095e+33\t19.7933\t4  \t38 \t4  \t163   \t4.73469\n",
      "5  \t161   \t1.206e+64  \t5  \t1.8e+66    \t0.0470081 \t161   \t1.46477e+65\t35.8333\t5  \t72 \t3  \t161   \t8.58791\n",
      "6  \t163   \t6e+101     \t6  \t1.8e+104   \t1.08839   \t163   \t1.0375e+103\t67.61  \t6  \t110\t6  \t163   \t13.3476\n",
      "7  \t170   \t6.00062e+119\t7  \t1.8e+122   \t1.08839   \t170   \t1.0375e+121\t105.183\t7  \t145\t6  \t170   \t17.0475\n",
      "8  \t166   \t1.224e+134  \t8  \t1.8e+136   \t1.08839   \t166   \t1.46474e+135\t124.35 \t8  \t142\t6  \t166   \t15.5321\n"
     ]
    },
    {
     "name": "stderr",
     "output_type": "stream",
     "text": [
      "/home/hjey/Documentos/AB/Practicas/venv/lib64/python3.12/site-packages/numpy/_core/_methods.py:197: RuntimeWarning: overflow encountered in multiply\n",
      "  x = um.multiply(x, x, out=x)\n"
     ]
    },
    {
     "name": "stdout",
     "output_type": "stream",
     "text": [
      "9  \t153   \t6.12061e+151\t9  \t1.8e+154   \t1.08839   \t153   \tinf         \t138.227\t9  \t162\t8  \t153   \t16.5417\n",
      "10 \t152   \t6e+215      \t10 \t1.8e+218   \t1.08839   \t152   \tinf         \t157.513\t10 \t230\t6  \t152   \t20.3302\n",
      "11 \t138   \t6.0006e+231 \t11 \t1.8e+234   \t1.08839   \t138   \tinf         \t226.16 \t11 \t248\t6  \t138   \t20.0157\n",
      "12 \t163   \t6e+261      \t12 \t1.8e+264   \t1.08839   \t163   \tinf         \t240.993\t12 \t280\t6  \t163   \t28.4998\n",
      "13 \t156   \t6.12061e+275\t13 \t1.8e+278   \t10.0897   \t156   \tinf         \t272.687\t13 \t296\t6  \t156   \t35.8057\n",
      "14 \t160   \t1.20018e+288\t14 \t1.8e+290   \t1.08839   \t160   \tinf         \t292.913\t14 \t308\t106\t160   \t16.3046\n"
     ]
    },
    {
     "ename": "OverflowError",
     "evalue": "(34, 'Numerical result out of range')",
     "output_type": "error",
     "traceback": [
      "\u001b[0;31m---------------------------------------------------------------------------\u001b[0m",
      "\u001b[0;31mOverflowError\u001b[0m                             Traceback (most recent call last)",
      "Cell \u001b[0;32mIn[9], line 25\u001b[0m\n\u001b[1;32m     22\u001b[0m     \u001b[38;5;28;01mreturn\u001b[39;00m pop2, log2, hof2\n\u001b[1;32m     24\u001b[0m \u001b[38;5;28;01mif\u001b[39;00m \u001b[38;5;18m__name__\u001b[39m \u001b[38;5;241m==\u001b[39m \u001b[38;5;124m\"\u001b[39m\u001b[38;5;124m__main__\u001b[39m\u001b[38;5;124m\"\u001b[39m:\n\u001b[0;32m---> 25\u001b[0m     \u001b[43mmain\u001b[49m\u001b[43m(\u001b[49m\u001b[43m)\u001b[49m\n",
      "Cell \u001b[0;32mIn[9], line 19\u001b[0m, in \u001b[0;36mmain\u001b[0;34m()\u001b[0m\n\u001b[1;32m     16\u001b[0m mstats2\u001b[38;5;241m.\u001b[39mregister(\u001b[38;5;124m\"\u001b[39m\u001b[38;5;124mmax\u001b[39m\u001b[38;5;124m\"\u001b[39m, numpy\u001b[38;5;241m.\u001b[39mmax)\n\u001b[1;32m     18\u001b[0m \u001b[38;5;66;03m# Algoritmo evolutivo\u001b[39;00m\n\u001b[0;32m---> 19\u001b[0m pop2, log2 \u001b[38;5;241m=\u001b[39m \u001b[43malgorithms\u001b[49m\u001b[38;5;241;43m.\u001b[39;49m\u001b[43meaSimple\u001b[49m\u001b[43m(\u001b[49m\u001b[43mpop2\u001b[49m\u001b[43m,\u001b[49m\u001b[43m \u001b[49m\u001b[43mtoolbox2\u001b[49m\u001b[43m,\u001b[49m\u001b[43m \u001b[49m\u001b[38;5;241;43m0.5\u001b[39;49m\u001b[43m,\u001b[49m\u001b[43m \u001b[49m\u001b[38;5;241;43m0.1\u001b[39;49m\u001b[43m,\u001b[49m\u001b[43m \u001b[49m\u001b[38;5;241;43m40\u001b[39;49m\u001b[43m,\u001b[49m\u001b[43m \u001b[49m\u001b[43mstats\u001b[49m\u001b[38;5;241;43m=\u001b[39;49m\u001b[43mmstats2\u001b[49m\u001b[43m,\u001b[49m\n\u001b[1;32m     20\u001b[0m \u001b[43m                               \u001b[49m\u001b[43mhalloffame\u001b[49m\u001b[38;5;241;43m=\u001b[39;49m\u001b[43mhof2\u001b[49m\u001b[43m,\u001b[49m\u001b[43m \u001b[49m\u001b[43mverbose\u001b[49m\u001b[38;5;241;43m=\u001b[39;49m\u001b[38;5;28;43;01mTrue\u001b[39;49;00m\u001b[43m)\u001b[49m\n\u001b[1;32m     22\u001b[0m \u001b[38;5;28;01mreturn\u001b[39;00m pop2, log2, hof2\n",
      "File \u001b[0;32m~/Documentos/AB/Practicas/venv/lib64/python3.12/site-packages/deap/algorithms.py:173\u001b[0m, in \u001b[0;36meaSimple\u001b[0;34m(population, toolbox, cxpb, mutpb, ngen, stats, halloffame, verbose)\u001b[0m\n\u001b[1;32m    171\u001b[0m invalid_ind \u001b[38;5;241m=\u001b[39m [ind \u001b[38;5;28;01mfor\u001b[39;00m ind \u001b[38;5;129;01min\u001b[39;00m offspring \u001b[38;5;28;01mif\u001b[39;00m \u001b[38;5;129;01mnot\u001b[39;00m ind\u001b[38;5;241m.\u001b[39mfitness\u001b[38;5;241m.\u001b[39mvalid]\n\u001b[1;32m    172\u001b[0m fitnesses \u001b[38;5;241m=\u001b[39m toolbox\u001b[38;5;241m.\u001b[39mmap(toolbox\u001b[38;5;241m.\u001b[39mevaluate, invalid_ind)\n\u001b[0;32m--> 173\u001b[0m \u001b[43m\u001b[49m\u001b[38;5;28;43;01mfor\u001b[39;49;00m\u001b[43m \u001b[49m\u001b[43mind\u001b[49m\u001b[43m,\u001b[49m\u001b[43m \u001b[49m\u001b[43mfit\u001b[49m\u001b[43m \u001b[49m\u001b[38;5;129;43;01min\u001b[39;49;00m\u001b[43m \u001b[49m\u001b[38;5;28;43mzip\u001b[39;49m\u001b[43m(\u001b[49m\u001b[43minvalid_ind\u001b[49m\u001b[43m,\u001b[49m\u001b[43m \u001b[49m\u001b[43mfitnesses\u001b[49m\u001b[43m)\u001b[49m\u001b[43m:\u001b[49m\n\u001b[1;32m    174\u001b[0m \u001b[43m    \u001b[49m\u001b[43mind\u001b[49m\u001b[38;5;241;43m.\u001b[39;49m\u001b[43mfitness\u001b[49m\u001b[38;5;241;43m.\u001b[39;49m\u001b[43mvalues\u001b[49m\u001b[43m \u001b[49m\u001b[38;5;241;43m=\u001b[39;49m\u001b[43m \u001b[49m\u001b[43mfit\u001b[49m\n\u001b[1;32m    176\u001b[0m \u001b[38;5;66;03m# Update the hall of fame with the generated individuals\u001b[39;00m\n",
      "Cell \u001b[0;32mIn[6], line 4\u001b[0m, in \u001b[0;36mevalSymbReg\u001b[0;34m(individual, points)\u001b[0m\n\u001b[1;32m      2\u001b[0m func2 \u001b[38;5;241m=\u001b[39m toolbox2\u001b[38;5;241m.\u001b[39mcompile(expr\u001b[38;5;241m=\u001b[39mindividual)\n\u001b[1;32m      3\u001b[0m \u001b[38;5;66;03m# La función de coste es: x**3 * 5y**2 + x/2\u001b[39;00m\n\u001b[0;32m----> 4\u001b[0m sqerrors \u001b[38;5;241m=\u001b[39m [\u001b[43m(\u001b[49m\u001b[43mfunc2\u001b[49m\u001b[43m(\u001b[49m\u001b[43mx\u001b[49m\u001b[43m,\u001b[49m\u001b[43m \u001b[49m\u001b[43my\u001b[49m\u001b[43m)\u001b[49m\u001b[43m \u001b[49m\u001b[38;5;241;43m-\u001b[39;49m\u001b[43m \u001b[49m\u001b[43m(\u001b[49m\u001b[43mx\u001b[49m\u001b[38;5;241;43m*\u001b[39;49m\u001b[38;5;241;43m*\u001b[39;49m\u001b[38;5;241;43m3\u001b[39;49m\u001b[43m \u001b[49m\u001b[38;5;241;43m*\u001b[39;49m\u001b[43m \u001b[49m\u001b[38;5;241;43m5\u001b[39;49m\u001b[43m \u001b[49m\u001b[38;5;241;43m*\u001b[39;49m\u001b[43m \u001b[49m\u001b[43my\u001b[49m\u001b[38;5;241;43m*\u001b[39;49m\u001b[38;5;241;43m*\u001b[39;49m\u001b[38;5;241;43m2\u001b[39;49m\u001b[43m \u001b[49m\u001b[38;5;241;43m+\u001b[39;49m\u001b[43m \u001b[49m\u001b[43mx\u001b[49m\u001b[38;5;241;43m/\u001b[39;49m\u001b[38;5;241;43m2\u001b[39;49m\u001b[43m)\u001b[49m\u001b[43m)\u001b[49m\u001b[38;5;241;43m*\u001b[39;49m\u001b[38;5;241;43m*\u001b[39;49m\u001b[38;5;241;43m2\u001b[39;49m \u001b[38;5;28;01mfor\u001b[39;00m x, y \u001b[38;5;129;01min\u001b[39;00m points]\n\u001b[1;32m      5\u001b[0m \u001b[38;5;28;01mreturn\u001b[39;00m math\u001b[38;5;241m.\u001b[39mfsum(sqerrors) \u001b[38;5;241m/\u001b[39m \u001b[38;5;28mlen\u001b[39m(points),\n",
      "\u001b[0;31mOverflowError\u001b[0m: (34, 'Numerical result out of range')"
     ]
    }
   ],
   "source": [
    "# Ejecución de algoritmo completo\n",
    "def main():\n",
    "    random.seed(318)\n",
    "\n",
    "    # Generar la población\n",
    "    pop2 = toolbox2.population2(n=300)\n",
    "    hof2 = tools.HallOfFame(1)\n",
    "\n",
    "    # Estadísticas\n",
    "    stats_fit2 = tools.Statistics(lambda ind: ind.fitness.values)\n",
    "    stats_size2 = tools.Statistics(len)\n",
    "    mstats2 = tools.MultiStatistics(fitness=stats_fit2, size=stats_size2)\n",
    "    mstats2.register(\"avg\", numpy.mean)\n",
    "    mstats2.register(\"std\", numpy.std)\n",
    "    mstats2.register(\"min\", numpy.min)\n",
    "    mstats2.register(\"max\", numpy.max)\n",
    "\n",
    "    # Algoritmo evolutivo\n",
    "    pop2, log2 = algorithms.eaSimple(pop2, toolbox2, 0.5, 0.1, 40, stats=mstats2,\n",
    "                                   halloffame=hof2, verbose=True)\n",
    "    \n",
    "    return pop2, log2, hof2\n",
    "\n",
    "if __name__ == \"__main__\":\n",
    "    main()"
   ]
  }
 ],
 "metadata": {
  "kernelspec": {
   "display_name": "Python 3",
   "language": "python",
   "name": "python3"
  },
  "language_info": {
   "codemirror_mode": {
    "name": "ipython",
    "version": 3
   },
   "file_extension": ".py",
   "mimetype": "text/x-python",
   "name": "python",
   "nbconvert_exporter": "python",
   "pygments_lexer": "ipython3",
   "version": "3.12.6"
  }
 },
 "nbformat": 4,
 "nbformat_minor": 2
}
