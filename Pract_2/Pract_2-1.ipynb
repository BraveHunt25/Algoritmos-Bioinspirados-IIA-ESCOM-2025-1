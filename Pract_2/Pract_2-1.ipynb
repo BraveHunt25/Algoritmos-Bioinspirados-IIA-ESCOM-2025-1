{
 "cells": [
  {
   "cell_type": "markdown",
   "metadata": {},
   "source": [
    "# Práctica 2. Regresión simbólica\n",
    "## Algoritmos bioinspirados\n",
    "**Hernández Jiménez Erick Yael**\n",
    "Úlima modificación: 16 de octubre de 2024"
   ]
  },
  {
   "cell_type": "markdown",
   "metadata": {},
   "source": [
    "# Ejemplo base\n",
    "Como parte de la práctica, el ejemplo del algoritmo será la base del desarrollo del resto. El ejemplo es el que se da a continuación:"
   ]
  },
  {
   "cell_type": "code",
   "execution_count": 1,
   "metadata": {},
   "outputs": [],
   "source": [
    "#    This file is part of EAP.\n",
    "#\n",
    "#    EAP is free software: you can redistribute it and/or modify\n",
    "#    it under the terms of the GNU Lesser General Public License as\n",
    "#    published by the Free Software Foundation, either version 3 of\n",
    "#    the License, or (at your option) any later version.\n",
    "#\n",
    "#    EAP is distributed in the hope that it will be useful,\n",
    "#    but WITHOUT ANY WARRANTY; without even the implied warranty of\n",
    "#    MERCHANTABILITY or FITNESS FOR A PARTICULAR PURPOSE. See the\n",
    "#    GNU Lesser General Public License for more details.\n",
    "#\n",
    "#    You should have received a copy of the GNU Lesser General Public\n",
    "#    License along with EAP. If not, see <http://www.gnu.org/licenses/>."
   ]
  },
  {
   "cell_type": "markdown",
   "metadata": {},
   "source": [
    "## Bibliotecas usadas"
   ]
  },
  {
   "cell_type": "code",
   "execution_count": 2,
   "metadata": {},
   "outputs": [],
   "source": [
    "# Bibliotecas usadas\n",
    "import operator\n",
    "import math\n",
    "import random\n",
    "\n",
    "import numpy\n",
    "\n",
    "from functools import partial\n",
    "\n",
    "from deap import algorithms\n",
    "from deap import base\n",
    "from deap import creator\n",
    "from deap import tools\n",
    "from deap import gp"
   ]
  },
  {
   "cell_type": "markdown",
   "metadata": {},
   "source": [
    "## Definiciones y tipos"
   ]
  },
  {
   "cell_type": "markdown",
   "metadata": {},
   "source": [
    "### Protección contra división entre 0\n",
    "Para evitar que la división entre cero colapse al programa, se define la operación manualmente"
   ]
  },
  {
   "cell_type": "code",
   "execution_count": 3,
   "metadata": {},
   "outputs": [],
   "source": [
    "# Define nuevas funciones\n",
    "# Función centinela para proteger contra la división del cero\n",
    "def protectedDiv(left, right):\n",
    "    try:\n",
    "        return left / right\n",
    "    except ZeroDivisionError:\n",
    "        return 1"
   ]
  },
  {
   "cell_type": "markdown",
   "metadata": {},
   "source": [
    "### Definición de primitivas\n",
    "Para aplicar los algoritmos genéticos de `gp`, usaremos los tipos de datos primitivos construidos. En este caso, definiremos como tipo de dato el primitivo de un set para posteriormente definir lo necesario para nuestro programa. Esto lo hacemos con una variable .\n",
    "\n",
    "Adicionalmente, definiremos las funciones primitivas de suma, resta, multiplicación, división, negación, coseno y seno (_add_, _sub_, _mul_, _protectedDiv_, _neg_, _cos_ y _sin_ respectivamente) para agregarlas al tipo primitivo de, en este caso, `pset`.\n",
    "\n",
    "Cada línea que usa la función `addPrimitive` tiene los siguientes argumentos:\n",
    "- _primitiva del operador_: función primitiva que agregamos a la clase\n",
    "- _aridad_: número de argumentos.\n",
    "\n",
    "También se agrega una _constante_ dinámica (se genera cada que se invoca) con el nombre \"rand101\" y que se inicializa con un valor aleatorio entre -1 y 1.\n",
    "\n",
    "Finalmente, para mayor legibilidad, se le asigna al primer argumento el nombre de 'x'"
   ]
  },
  {
   "cell_type": "code",
   "execution_count": 4,
   "metadata": {},
   "outputs": [],
   "source": [
    "# Definición de primitivas\n",
    "pset = gp.PrimitiveSet(\"MAIN\", 1)\n",
    "pset.addPrimitive(operator.add, 2)\n",
    "pset.addPrimitive(operator.sub, 2)\n",
    "pset.addPrimitive(operator.mul, 2)\n",
    "pset.addPrimitive(protectedDiv, 2)\n",
    "pset.addPrimitive(operator.neg, 1)\n",
    "pset.addPrimitive(math.cos, 1)\n",
    "pset.addPrimitive(math.sin, 1)\n",
    "pset.addEphemeralConstant(\"rand101\", partial(random.randint, -1, 1))\n",
    "pset.renameArguments(ARG0='x')"
   ]
  },
  {
   "cell_type": "markdown",
   "metadata": {},
   "source": [
    "Ahora se crean las clases con la que se va a evaluar la población, en este caso, para minimizar la distancia entre la población y la función objetivo.\n",
    "\n",
    "`Creator` es el módulo que nos ayuda a crear clases a partir de clases primitivas. El primer argumento nombra la clase, el segundo la clase primitiva base con la que se crea, el resto de argumentos son atributos que se irán adicionando a la clase. En este caso, `weights` es igual a una tupla con el valor `(-1.0,)` que nos indica que queremos minimizar para la clase `FitnessMin`. Para la clase `Individual`, la clase base es un árbol y les asignamos la clase anteriormente creada."
   ]
  },
  {
   "cell_type": "code",
   "execution_count": 5,
   "metadata": {},
   "outputs": [],
   "source": [
    "creator.create(\"FitnessMin\", base.Fitness, weights=(-1.0,))\n",
    "creator.create(\"Individual\", gp.PrimitiveTree, fitness=creator.FitnessMin)"
   ]
  },
  {
   "cell_type": "markdown",
   "metadata": {},
   "source": [
    "Se creará la clase con la que se manejará el algoritmo genético en la variable `toolbox` que deriva de la clase `base.Toolbox`. Luego agregamos iterables para generar los individuos y la población con los argumentos necesarios. Finalmente generamos la función para que el compilador de Python pueda interpretar los iterables y las clases creadas."
   ]
  },
  {
   "cell_type": "code",
   "execution_count": 6,
   "metadata": {},
   "outputs": [],
   "source": [
    "toolbox = base.Toolbox()\n",
    "toolbox.register(\"expr\", gp.genHalfAndHalf, pset=pset, min_=1, max_=2)\n",
    "toolbox.register(\"individual\", tools.initIterate, creator.Individual, toolbox.expr)\n",
    "toolbox.register(\"population\", tools.initRepeat, list, toolbox.individual)\n",
    "toolbox.register(\"compile\", gp.compile, pset=pset)"
   ]
  },
  {
   "cell_type": "markdown",
   "metadata": {},
   "source": [
    "Luego definimos la función que evaluará los individuos por su _fitness_, el cual compila al individuo y luego eleva al cuadrado la diferencia entre el resultado del individuo y la función objetivo y regresamos el error medio."
   ]
  },
  {
   "cell_type": "code",
   "execution_count": 7,
   "metadata": {},
   "outputs": [],
   "source": [
    "def evalSymbReg(individual, points):\n",
    "    # Transform the tree expression in a callable function\n",
    "    func = toolbox.compile(expr=individual)\n",
    "    # Evaluate the mean squared error between the expression\n",
    "    # and the real function : x**4 + x**3 + x**2 + x\n",
    "    sqerrors = ((func(x) - x**4 - x**3 - x**2 - x)**2 for x in points)\n",
    "    return math.fsum(sqerrors) / len(points),"
   ]
  },
  {
   "cell_type": "markdown",
   "metadata": {},
   "source": [
    "Registramos las funciones relacionadas directamente con el algoritmo genético. Primero se asocia el iterable `[x/10. for x in range(-10,10)]` con los puntos de la evaluación a la función \"evalSymbReg\". Luego asociamos la selección por torneo de tamaño 3 a la función \"select\". Posteriormente, el método de cruza a la función \"mate\" con el método de cruza por un punto. Continuando, la función *\"expr_mut\"* generará árboles completos (_genFull_) con máximo 2 niveles dependiendo de sus atributos. Finalmente asociamos la función de mutación uniforme a la función _\"mutate\"_."
   ]
  },
  {
   "cell_type": "code",
   "execution_count": 8,
   "metadata": {},
   "outputs": [],
   "source": [
    "toolbox.register(\"evaluate\", evalSymbReg, points=[x/10. for x in range(-10,10)])\n",
    "toolbox.register(\"select\", tools.selTournament, tournsize=3)\n",
    "toolbox.register(\"mate\", gp.cxOnePoint)\n",
    "toolbox.register(\"expr_mut\", gp.genFull, min_=0, max_=2)\n",
    "toolbox.register(\"mutate\", gp.mutUniform, expr=toolbox.expr_mut, pset=pset)"
   ]
  },
  {
   "cell_type": "markdown",
   "metadata": {},
   "source": [
    "Por último definimos límites de mutación y de cruza debido a la estructura de los individuos como árboles. Esto es relevante para evitar que se estanque la búsqueda."
   ]
  },
  {
   "cell_type": "code",
   "execution_count": 9,
   "metadata": {},
   "outputs": [],
   "source": [
    "toolbox.decorate(\"mate\", gp.staticLimit(key=operator.attrgetter(\"height\"), max_value=17))\n",
    "toolbox.decorate(\"mutate\", gp.staticLimit(key=operator.attrgetter(\"height\"), max_value=17))"
   ]
  },
  {
   "cell_type": "markdown",
   "metadata": {},
   "source": [
    "Ahora se ejecuta el algoritmo genético"
   ]
  },
  {
   "cell_type": "code",
   "execution_count": 10,
   "metadata": {},
   "outputs": [
    {
     "name": "stdout",
     "output_type": "stream",
     "text": [
      "   \t      \t                        fitness                        \t                      size                     \n",
      "   \t      \t-------------------------------------------------------\t-----------------------------------------------\n",
      "gen\tnevals\tavg    \tgen\tmax  \tmin     \tnevals\tstd    \tavg    \tgen\tmax\tmin\tnevals\tstd    \n",
      "0  \t300   \t1.78879\t0  \t30.34\t0.450825\t300   \t2.67896\t3.54667\t0  \t7  \t2  \t300   \t1.49482\n",
      "1  \t166   \t1.43254\t1  \t44.4437\t0.183711\t166   \t3.05668\t3.60667\t1  \t12 \t1  \t166   \t1.77725\n",
      "2  \t166   \t2.16879\t2  \t315.736\t0.165572\t166   \t18.1873\t3.55   \t2  \t9  \t1  \t166   \t1.62506\n",
      "3  \t163   \t0.98255\t3  \t2.9829 \t0.165572\t163   \t0.712666\t3.42667\t3  \t9  \t1  \t163   \t1.45073\n",
      "4  \t153   \t0.836017\t4  \t14.538 \t0.165572\t153   \t0.979399\t3.77   \t4  \t11 \t1  \t153   \t1.64025\n",
      "5  \t158   \t0.944635\t5  \t18.9739\t0.165572\t158   \t1.61614 \t3.77667\t5  \t10 \t1  \t158   \t1.62894\n",
      "6  \t169   \t0.885819\t6  \t14.2181\t0.165572\t169   \t1.00296 \t4      \t6  \t10 \t1  \t169   \t1.87617\n",
      "7  \t167   \t0.731332\t7  \t3.35292\t0.165572\t167   \t0.56016 \t4.35   \t7  \t10 \t1  \t167   \t1.92722\n",
      "8  \t187   \t0.785916\t8  \t19.1852\t0.13008 \t187   \t1.2426  \t5.13667\t8  \t14 \t1  \t187   \t2.21465\n",
      "9  \t176   \t0.672788\t9  \t14.2339\t0.123719\t176   \t1.00764 \t5.71667\t9  \t14 \t1  \t176   \t2.48389\n",
      "10 \t176   \t0.786975\t10 \t32.4952\t0.123719\t176   \t2.56679 \t6.27333\t10 \t15 \t1  \t176   \t2.33922\n",
      "11 \t167   \t0.961666\t11 \t62.7581\t0.123719\t167   \t4.10149 \t6.75667\t11 \t16 \t1  \t167   \t2.30162\n",
      "12 \t170   \t0.630202\t12 \t18.7613\t0.114276\t170   \t1.55098 \t7.06333\t12 \t16 \t1  \t170   \t2.55199\n",
      "13 \t173   \t0.792442\t13 \t18.7749\t0.114276\t173   \t2.0836  \t7.07333\t13 \t17 \t1  \t173   \t2.3212 \n",
      "14 \t163   \t0.701482\t14 \t16.5323\t0.0935121\t163   \t1.92386 \t7.01   \t14 \t16 \t1  \t163   \t2.74042\n",
      "15 \t178   \t0.796168\t15 \t63.2953\t0.0935121\t178   \t3.82723 \t7.42333\t15 \t17 \t1  \t178   \t3.11942\n",
      "16 \t154   \t0.446513\t16 \t19.0443\t0.0512969\t154   \t1.18016 \t7.73333\t16 \t17 \t1  \t154   \t3.35095\n",
      "17 \t177   \t0.378618\t17 \t4.88791\t0.0512969\t177   \t0.470854\t9.01   \t17 \t22 \t1  \t177   \t3.68464\n",
      "18 \t177   \t0.394816\t18 \t2.552  \t0.0512969\t177   \t0.45627 \t10.14  \t18 \t23 \t2  \t177   \t3.86097\n",
      "19 \t175   \t0.347051\t19 \t2.84707\t0.0147194\t175   \t0.428075\t11     \t19 \t24 \t1  \t175   \t4.21347\n",
      "20 \t167   \t0.370537\t20 \t18.9739\t0.0147194\t167   \t1.15424 \t11.6   \t20 \t25 \t3  \t167   \t4.13441\n",
      "21 \t159   \t0.302206\t21 \t2.54483\t0.0147194\t159   \t0.36307 \t12.78  \t21 \t33 \t1  \t159   \t5.04298\n",
      "22 \t161   \t0.329424\t22 \t5.15351\t0.014539 \t161   \t0.494736\t14.1033\t22 \t32 \t1  \t161   \t5.23762\n",
      "23 \t165   \t0.464998\t23 \t18.9739\t0.0147194\t165   \t1.51044 \t14.8933\t23 \t34 \t1  \t165   \t6.13259\n",
      "24 \t188   \t0.271713\t24 \t3.71933\t0.0147194\t188   \t0.436801\t15.0867\t24 \t34 \t2  \t188   \t6.25719\n",
      "25 \t152   \t0.269631\t25 \t14.5905\t0.0147194\t152   \t0.88428 \t15.22  \t25 \t47 \t1  \t152   \t6.49602\n",
      "26 \t164   \t0.230995\t26 \t4.4082 \t0.0147194\t164   \t0.436685\t16.0633\t26 \t41 \t3  \t164   \t6.52171\n",
      "27 \t159   \t0.185306\t27 \t5.249  \t0.0144201\t159   \t0.410217\t17.2333\t27 \t40 \t1  \t159   \t6.7111 \n",
      "28 \t164   \t0.165298\t28 \t1.98267\t0.0143442\t164   \t0.292591\t18.3   \t28 \t43 \t1  \t164   \t7.23763\n",
      "29 \t174   \t0.172642\t29 \t2.54124\t0.00182347\t174   \t0.352515\t18.33  \t29 \t37 \t1  \t174   \t6.69037\n",
      "30 \t141   \t0.10727 \t30 \t2.61126\t0.00182347\t141   \t0.241954\t19.3   \t30 \t37 \t3  \t141   \t5.483  \n",
      "31 \t154   \t0.129872\t31 \t2.18033\t0.00182347\t154   \t0.269947\t19.7933\t31 \t39 \t3  \t154   \t5.94788\n",
      "32 \t165   \t0.129453\t32 \t2.54124\t0.00182347\t165   \t0.287201\t20.2867\t32 \t43 \t1  \t165   \t6.5175 \n",
      "33 \t173   \t0.16656 \t33 \t2.54124\t0.00182347\t173   \t0.341339\t20.5633\t33 \t43 \t1  \t173   \t7.38823\n",
      "34 \t168   \t0.131975\t34 \t1.52568\t0.00182347\t168   \t0.232491\t20.4233\t34 \t48 \t3  \t168   \t7.45637\n",
      "35 \t153   \t0.152313\t35 \t2.54124\t0.00182347\t153   \t0.324276\t19.82  \t35 \t43 \t2  \t153   \t7.13589\n",
      "36 \t178   \t0.237937\t36 \t16.1106\t0.00182347\t178   \t0.990786\t19.11  \t36 \t43 \t3  \t178   \t7.68318\n",
      "37 \t157   \t0.185061\t37 \t4.76458\t0.00182347\t157   \t0.449021\t18.3667\t37 \t39 \t1  \t157   \t6.31128\n",
      "38 \t184   \t0.185972\t38 \t4.09456\t5.12297e-33\t184   \t0.358825\t17.4767\t38 \t48 \t1  \t184   \t7.37899\n",
      "39 \t149   \t0.193025\t39 \t2.9829 \t5.12297e-33\t149   \t0.377824\t16.87  \t39 \t35 \t1  \t149   \t5.85205\n",
      "40 \t161   \t0.127091\t40 \t1.59859\t5.12297e-33\t161   \t0.216044\t16.4767\t40 \t36 \t1  \t161   \t6.14948\n"
     ]
    }
   ],
   "source": [
    "# Ejecución de algoritmo completo\n",
    "def main():\n",
    "    # Se genera una semilla para generar la población\n",
    "    random.seed(318)\n",
    "\n",
    "    # Se genera la población a partir de la semilla con 300 individuos\n",
    "    pop = toolbox.population(n=300)\n",
    "    # Se genera una variable para almacenar los mejores individuos\n",
    "    hof = tools.HallOfFame(1)\n",
    "\n",
    "    # Se generan las estadísticas de la evaluación de los individuos en la función de costo\n",
    "    stats_fit = tools.Statistics(lambda ind: ind.fitness.values)\n",
    "    stats_size = tools.Statistics(len)  # Se calcula la longitud de las estadísticas generadas\n",
    "    # Genera un contenedor para almacenar las estadísticas de los individuos\n",
    "    mstats = tools.MultiStatistics(fitness=stats_fit, size=stats_size)\n",
    "    mstats.register(\"avg\", numpy.mean)  # Asocia el cálculo de la media a la función \"avg\"\n",
    "    mstats.register(\"std\", numpy.std)   # Asocia el cálculo de desviación estándar a la función \"std\"\n",
    "    mstats.register(\"min\", numpy.min)   # Asocia el cálculo del mínimo a la función \"min\"\n",
    "    mstats.register(\"max\", numpy.max)   # Asocia el cálculo del máximo a la función \"max\"\n",
    "\n",
    "    ''' \n",
    "    Genera la nueva población y el registro de población al algoritmo de evolución simple con la población generada, las funciones para el algoritmo\n",
    "    la probabilidad de cruza, la probabilidad de mutación, el número de generaciones, el contenedor de estadísticas, el contenedor de mejores\n",
    "    individuos y con la opción de verbalizar el proceso\n",
    "    ''' \n",
    "    pop, log = algorithms.eaSimple(pop, toolbox, 0.5, 0.1, 40, stats=mstats,\n",
    "                                   halloffame=hof, verbose=True)\n",
    "    # print log\n",
    "    return pop, log, hof\n",
    "\n",
    "if __name__ == \"__main__\":\n",
    "    main()"
   ]
  },
  {
   "cell_type": "markdown",
   "metadata": {},
   "source": [
    "# Modificaciones"
   ]
  },
  {
   "cell_type": "markdown",
   "metadata": {},
   "source": [
    "## Óptima"
   ]
  },
  {
   "cell_type": "markdown",
   "metadata": {},
   "source": [
    "La modificación solicitada involucra cambiar la regresión para que sea bidimensional (dominio: $\\R^2$) en vez de unidimensional (dominio: $\\R$). La forma de la función es:\n",
    "$$x^3 * 5y^2 + \\frac{x}{2}$$"
   ]
  },
  {
   "cell_type": "markdown",
   "metadata": {},
   "source": [
    "Primero importamos las bibliotecas usadas en el ejemplo anterior"
   ]
  },
  {
   "cell_type": "code",
   "execution_count": 11,
   "metadata": {},
   "outputs": [],
   "source": [
    "import operator\n",
    "import math\n",
    "import random\n",
    "\n",
    "import numpy\n",
    "\n",
    "from functools import partial\n",
    "\n",
    "from deap import algorithms\n",
    "from deap import base\n",
    "from deap import creator\n",
    "from deap import tools\n",
    "from deap import gp"
   ]
  },
  {
   "cell_type": "markdown",
   "metadata": {},
   "source": [
    "Agregamos la misma función de división"
   ]
  },
  {
   "cell_type": "code",
   "execution_count": 12,
   "metadata": {},
   "outputs": [],
   "source": [
    "def protectedDiv(left, right):\n",
    "    try:\n",
    "        return left / right\n",
    "    except ZeroDivisionError:\n",
    "        return 1"
   ]
  },
  {
   "cell_type": "markdown",
   "metadata": {},
   "source": [
    "Estableceremos nuestra clase para soportar 2 valores"
   ]
  },
  {
   "cell_type": "code",
   "execution_count": 13,
   "metadata": {},
   "outputs": [],
   "source": [
    "# Definición de primitivas\n",
    "pset_2 = gp.PrimitiveSet(\"2VAR\", 2)\n",
    "pset_2.addPrimitive(operator.sub, 2)\n",
    "pset_2.addPrimitive(operator.mul, 2)\n",
    "pset_2.addPrimitive(protectedDiv, 2)\n",
    "pset_2.addPrimitive(operator.neg, 1)\n",
    "pset_2.addPrimitive(math.cos, 1)\n",
    "pset_2.addPrimitive(math.sin, 1)\n",
    "pset_2.addEphemeralConstant(\"rand505\", partial(random.randint, -5, 5))\n",
    "pset_2.renameArguments(ARG0='x', ARG1='y')"
   ]
  },
  {
   "cell_type": "markdown",
   "metadata": {},
   "source": [
    "Mantendremos la configuración de las funciones de ajuste y construcción de los individuos"
   ]
  },
  {
   "cell_type": "code",
   "execution_count": 14,
   "metadata": {},
   "outputs": [],
   "source": [
    "creator.create(\"FitnessMin2\", base.Fitness, weights=(-1.0,))\n",
    "creator.create(\"Individual2\", gp.PrimitiveTree, fitness=creator.FitnessMin2)"
   ]
  },
  {
   "cell_type": "markdown",
   "metadata": {},
   "source": [
    "Definimos las mismas clases y funciones asociadas a la clase de los individuos"
   ]
  },
  {
   "cell_type": "code",
   "execution_count": 15,
   "metadata": {},
   "outputs": [],
   "source": [
    "toolbox2 = base.Toolbox()\n",
    "toolbox2.register(\"expr\", gp.genHalfAndHalf, pset=pset_2, min_=1, max_=2)\n",
    "toolbox2.register(\"individual2\", tools.initIterate, creator.Individual2, toolbox2.expr)\n",
    "toolbox2.register(\"population2\", tools.initRepeat, list, toolbox2.individual2)\n",
    "toolbox2.register(\"compile\", gp.compile, pset=pset_2)"
   ]
  },
  {
   "cell_type": "markdown",
   "metadata": {},
   "source": [
    "Definimos la función de coste"
   ]
  },
  {
   "cell_type": "code",
   "execution_count": 16,
   "metadata": {},
   "outputs": [],
   "source": [
    "def evalSymbReg(individual, points):\n",
    "    func2 = toolbox2.compile(expr=individual)\n",
    "    # La función de coste es: x**3 * 5y**2 + x/2\n",
    "    sqerrors = [(func2(x, y) - (x**3 * 5 * y**2 + x/2))**2 for x, y in points]\n",
    "    return math.fsum(sqerrors) / len(points),                                    # Cambiamos la suma para obtener funcionalidad a costa de precisión"
   ]
  },
  {
   "cell_type": "markdown",
   "metadata": {},
   "source": [
    "Agregamos las funciones para el algoritmo genético"
   ]
  },
  {
   "cell_type": "code",
   "execution_count": 17,
   "metadata": {},
   "outputs": [],
   "source": [
    "toolbox2.register(\"evaluate\", evalSymbReg, points=[(x/10., y/10.) for x in range(-5,5) for y in range(-5,5)])       # Se cambian los rangos para evitar desbordamiento de memoria\n",
    "toolbox2.register(\"select\", tools.selTournament, tournsize=3 )                                      # Se usó ruleta pero se desborda la memoria por los cálculos intermedios\n",
    "toolbox2.register(\"mate\", gp.cxOnePoint)\n",
    "toolbox2.register(\"expr_mut\", gp.genFull, min_=0, max_=2)                           # se mantiene corto para evitar más errores de los necesarios\n",
    "toolbox2.register(\"mutate\", gp.mutUniform, expr=toolbox2.expr_mut, pset=pset_2)"
   ]
  },
  {
   "cell_type": "markdown",
   "metadata": {},
   "source": [
    "Por último agregamos los límites en la generación"
   ]
  },
  {
   "cell_type": "code",
   "execution_count": 18,
   "metadata": {},
   "outputs": [],
   "source": [
    "toolbox2.decorate(\"mate\", gp.staticLimit(key=operator.attrgetter(\"height\"), max_value=17))\n",
    "toolbox2.decorate(\"mutate\", gp.staticLimit(key=operator.attrgetter(\"height\"), max_value=17))"
   ]
  },
  {
   "cell_type": "markdown",
   "metadata": {},
   "source": [
    "Juntamos la funcionalidad de todo lo anterior en el algoritmo evolutivo"
   ]
  },
  {
   "cell_type": "code",
   "execution_count": 19,
   "metadata": {},
   "outputs": [
    {
     "name": "stdout",
     "output_type": "stream",
     "text": [
      "   \t      \t                        fitness                        \t                      size                     \n",
      "   \t      \t-------------------------------------------------------\t-----------------------------------------------\n",
      "gen\tnevals\tavg   \tgen\tmax    \tmin       \tnevals\tstd    \tavg    \tgen\tmax\tmin\tnevals\tstd    \n",
      "0  \t300   \t109.69\t0  \t19432.8\t0.00509615\t300   \t1215.99\t3.49333\t0  \t7  \t2  \t300   \t1.51106\n",
      "1  \t166   \t2.32395\t1  \t260.032\t0.00509615\t166   \t21.2376\t3.5    \t1  \t9  \t1  \t166   \t1.51327\n",
      "2  \t169   \t0.715434\t2  \t99.4215\t0.00509615\t169   \t6.15621\t3.27   \t2  \t11 \t1  \t169   \t1.41554\n",
      "3  \t172   \t1.75034 \t3  \t462.023\t0.000501844\t172   \t26.6665\t3.10667\t3  \t12 \t1  \t172   \t1.40545\n",
      "4  \t138   \t1.82553 \t4  \t465.972\t0.000501844\t138   \t26.9428\t3.18333\t4  \t9  \t1  \t138   \t1.22871\n",
      "5  \t178   \t1.0027  \t5  \t115.589\t0.000482024\t178   \t8.43442\t3.31667\t5  \t8  \t1  \t178   \t1.05026\n",
      "6  \t165   \t2.6912  \t6  \t726.795\t0.000482024\t165   \t41.8888\t3.60333\t6  \t9  \t1  \t165   \t1.238  \n",
      "7  \t151   \t1.38966 \t7  \t257.061\t0.000482024\t151   \t14.9974\t3.84333\t7  \t9  \t1  \t151   \t1.31863\n",
      "8  \t171   \t1.96277 \t8  \t259.934\t0.000433182\t171   \t21.0381\t4.20333\t8  \t11 \t1  \t171   \t1.56269\n",
      "9  \t173   \t0.221115\t9  \t9.88724\t0.000433182\t173   \t0.764789\t4.68667\t9  \t12 \t2  \t173   \t1.74026\n",
      "10 \t148   \t2.55022 \t10 \t721.857\t0.000233314\t148   \t41.6059 \t5.13667\t10 \t12 \t1  \t148   \t1.63238\n",
      "11 \t178   \t0.252587\t11 \t25.3309\t0.000233314\t178   \t1.62215 \t5.46   \t11 \t12 \t1  \t178   \t1.64977\n",
      "12 \t172   \t2.70428 \t12 \t717.072\t0.000233314\t172   \t41.3722 \t5.54   \t12 \t14 \t1  \t172   \t1.69167\n",
      "13 \t177   \t0.177534\t13 \t23.2336\t0.000233314\t177   \t1.40037 \t5.56333\t13 \t13 \t1  \t177   \t1.64093\n",
      "14 \t162   \t0.166197\t14 \t8.84589\t0.000209419\t162   \t0.831589\t5.72667\t14 \t12 \t1  \t162   \t1.74698\n",
      "15 \t168   \t0.44659 \t15 \t84.9142\t0.000193557\t168   \t5.01264 \t5.87   \t15 \t14 \t1  \t168   \t1.95953\n",
      "16 \t189   \t0.243168\t16 \t35.664 \t0.000209419\t189   \t2.44161 \t5.97333\t16 \t17 \t1  \t189   \t2.0847 \n",
      "17 \t164   \t0.0581122\t17 \t3.11423\t0.000196954\t164   \t0.27069 \t5.92   \t17 \t14 \t1  \t164   \t1.96645\n",
      "18 \t159   \t0.0791347\t18 \t8.84589\t0.000193557\t159   \t0.545954\t5.81   \t18 \t16 \t1  \t159   \t2.0332 \n",
      "19 \t168   \t0.0665842\t19 \t5.17243\t0.000193557\t168   \t0.364178\t6      \t19 \t15 \t1  \t168   \t2.16795\n",
      "20 \t156   \t0.0195361\t20 \t0.936488\t0.000193557\t156   \t0.0806168\t6.31667\t20 \t15 \t1  \t156   \t2.17019\n",
      "21 \t149   \t0.037515 \t21 \t3.8115  \t0.000193557\t149   \t0.234951 \t6.91   \t21 \t14 \t3  \t149   \t2.31845\n",
      "22 \t162   \t0.373569 \t22 \t102.982 \t0.000193557\t162   \t5.93573  \t7.37667\t22 \t17 \t1  \t162   \t2.54456\n",
      "23 \t184   \t0.0880159\t23 \t18.1528 \t0.00017743 \t184   \t1.04861  \t7.88667\t23 \t23 \t1  \t184   \t2.87063\n",
      "24 \t183   \t0.0652214\t24 \t9.42905 \t0.00016104 \t183   \t0.570268 \t8.37333\t24 \t19 \t2  \t183   \t3.05842\n",
      "25 \t164   \t0.0433308\t25 \t5.18682 \t0.00016104 \t164   \t0.351521 \t8.96333\t25 \t20 \t3  \t164   \t3.12015\n",
      "26 \t170   \t0.0432229\t26 \t8.0887  \t0.000152694\t170   \t0.470338 \t9.41333\t26 \t28 \t3  \t170   \t3.51698\n",
      "27 \t167   \t0.0882959\t27 \t14.6703 \t0.000152694\t167   \t0.903939 \t9.63   \t27 \t23 \t2  \t167   \t3.6551 \n",
      "28 \t163   \t0.0584093\t28 \t8.41713 \t0.000145841\t163   \t0.527847 \t10.13  \t28 \t25 \t1  \t163   \t3.78062\n",
      "29 \t177   \t1.07765  \t29 \t257.061 \t0.000145284\t177   \t15.2192  \t10.9833\t29 \t25 \t1  \t177   \t4.27119\n",
      "30 \t151   \t0.0162743\t30 \t1.08839 \t0.000136387\t151   \t0.0842429\t12.0867\t30 \t29 \t3  \t151   \t4.79713\n",
      "31 \t166   \t0.114626 \t31 \t28.0277 \t0.000138297\t166   \t1.6176   \t12.4833\t31 \t39 \t1  \t166   \t4.97223\n",
      "32 \t160   \t0.186194 \t32 \t52.9788 \t0.000132048\t160   \t3.05343  \t12.7967\t32 \t39 \t2  \t160   \t5.07628\n",
      "33 \t164   \t0.0163396\t33 \t1.00493 \t0.000132048\t164   \t0.09413  \t13.1967\t33 \t33 \t1  \t164   \t4.85022\n",
      "34 \t194   \t0.0963263\t34 \t25.3309 \t0.000128324\t194   \t1.4611   \t13.37  \t34 \t30 \t1  \t194   \t5.26496\n",
      "35 \t158   \t0.0132266\t35 \t0.955815\t0.000128324\t158   \t0.0761797\t14.7   \t35 \t43 \t1  \t158   \t5.70643\n",
      "36 \t149   \t0.804458 \t36 \t234.217 \t0.000128324\t149   \t13.5     \t15.3433\t36 \t45 \t1  \t149   \t6.90064\n",
      "37 \t152   \t0.831918 \t37 \t239.197 \t0.000128324\t152   \t13.7868  \t15.8867\t37 \t45 \t1  \t152   \t6.95225\n",
      "38 \t157   \t0.0233257\t38 \t3.07677 \t0.000125417\t157   \t0.197937 \t17.1333\t38 \t45 \t3  \t157   \t7.57335\n",
      "39 \t180   \t0.0868683\t39 \t16.2703 \t0.000121176\t180   \t1.01581  \t18.9767\t39 \t55 \t1  \t180   \t8.70839\n",
      "40 \t161   \t0.00935234\t40 \t1.08175 \t0.000120309\t161   \t0.0696547\t20.9767\t40 \t66 \t3  \t161   \t8.97568\n"
     ]
    }
   ],
   "source": [
    "# Ejecución de algoritmo completo\n",
    "def main():\n",
    "    random.seed(318)\n",
    "\n",
    "    # Generar la población\n",
    "    pop2 = toolbox2.population2(n=300)\n",
    "    hof2 = tools.HallOfFame(1)\n",
    "\n",
    "    # Estadísticas\n",
    "    stats_fit2 = tools.Statistics(lambda ind: ind.fitness.values)\n",
    "    stats_size2 = tools.Statistics(len)\n",
    "    mstats2 = tools.MultiStatistics(fitness=stats_fit2, size=stats_size2)\n",
    "    mstats2.register(\"avg\", numpy.mean)\n",
    "    mstats2.register(\"std\", numpy.std)\n",
    "    mstats2.register(\"min\", numpy.min)\n",
    "    mstats2.register(\"max\", numpy.max)\n",
    "\n",
    "    # Algoritmo evolutivo\n",
    "    pop2, log2 = algorithms.eaSimple(pop2, toolbox2, 0.5, 0.1, 40, stats=mstats2,\n",
    "                                   halloffame=hof2, verbose=True)\n",
    "    \n",
    "    return pop2, log2, hof2\n",
    "\n",
    "if __name__ == \"__main__\":\n",
    "    main()"
   ]
  },
  {
   "cell_type": "markdown",
   "metadata": {},
   "source": [
    "## Con ruleta"
   ]
  },
  {
   "cell_type": "code",
   "execution_count": 48,
   "metadata": {},
   "outputs": [
    {
     "name": "stdout",
     "output_type": "stream",
     "text": [
      "   \t      \t                        fitness                        \t                      size                     \n",
      "   \t      \t-------------------------------------------------------\t-----------------------------------------------\n",
      "gen\tnevals\tavg   \tgen\tmax    \tmin     \tnevals\tstd    \tavg    \tgen\tmax\tmin\tnevals\tstd    \n",
      "0  \t300   \t10.383\t0  \t1083.43\t0.307362\t300   \t89.0069\t3.49333\t0  \t7  \t2  \t300   \t1.50885\n",
      "1  \t154   \t3.47776e+06\t1  \t1.04251e+09\t0.405191\t154   \t6.00888e+07\t6.59667\t1  \t52 \t2  \t154   \t5.5941 \n",
      "2  \t147   \t2.12206e+09\t2  \t1.04116e+11\t772.301 \t147   \t1.01817e+10\t46.43  \t2  \t69 \t24 \t147   \t3.54943\n",
      "3  \t198   \t7.84847e+10\t3  \t1.04087e+13\t14.6013 \t198   \t6.10884e+11\t43.5333\t3  \t67 \t4  \t198   \t8.92948\n",
      "4  \t178   \t3.57618e+14\t4  \t1.04077e+17\t79.8904 \t178   \t5.99884e+15\t46.8033\t4  \t91 \t7  \t178   \t8.46471\n",
      "5  \t173   \t3.63964e+18\t5  \t1.04076e+21\t2.39334 \t173   \t5.99857e+19\t50.4767\t5  \t67 \t8  \t173   \t5.82204\n",
      "6  \t185   \t1.61427e+21\t6  \t1.04076e+23\t1.55232 \t185   \t7.57104e+21\t52.57  \t6  \t70 \t7  \t185   \t6.71951\n",
      "7  \t147   \t2.66667e+32\t7  \t8e+34      \t16716.2 \t147   \t4.6111e+33 \t52.6533\t7  \t79 \t7  \t147   \t6.86293\n",
      "8  \t165   \t2.72587e+36\t8  \t8e+38      \t1.45874 \t165   \t4.61076e+37\t47.4067\t8  \t55 \t7  \t165   \t5.74526\n",
      "9  \t167   \t1.11349e+39\t9  \t8e+40      \t16786.2 \t167   \t6.47227e+39\t52.1233\t9  \t65 \t11 \t167   \t3.7463 \n",
      "10 \t154   \t2.66667e+46\t10 \t8e+48      \t1.51597 \t154   \t4.6111e+47 \t52.72  \t10 \t85 \t11 \t154   \t5.39212\n",
      "11 \t161   \t8.50856e+48\t11 \t8e+50      \t1.63379 \t161   \t4.59092e+49\t61.6567\t11 \t70 \t21 \t161   \t4.9138 \n",
      "12 \t163   \t5.35084e+52\t12 \t8e+54      \t1.39497e+15\t163   \t6.51002e+53\t62.4167\t12 \t73 \t26 \t163   \t4.64791\n",
      "13 \t160   \t2.66836e+58\t13 \t8e+60      \t2.39334    \t160   \t4.61109e+59\t67.8933\t13 \t75 \t33 \t160   \t3.92453\n",
      "14 \t177   \t1.38958e+61\t14 \t8e+62      \t1.00007e+30\t177   \t7.90826e+61\t73.7567\t14 \t95 \t35 \t177   \t4.70717\n",
      "15 \t167   \t2.69369e+66\t15 \t8e+68      \t26.8668    \t167   \t4.61117e+67\t74.7567\t15 \t83 \t33 \t167   \t5.49461\n",
      "16 \t170   \t2.80429e+70\t16 \t8e+72      \t2.39334    \t170   \t4.61098e+71\t80.61  \t16 \t87 \t41 \t170   \t7.22481\n",
      "17 \t178   \t1.37635e+73\t17 \t8e+74      \t2.0571e+32 \t178   \t7.9099e+73 \t85.16  \t17 \t90 \t45 \t178   \t6.3609 \n",
      "18 \t165   \t3.60295e+74\t18 \t8e+74      \t8e+30      \t165   \t3.95067e+74\t86.58  \t18 \t121\t47 \t165   \t6.69006\n",
      "19 \t170   \t1.92323e+75\t19 \t8e+76      \t8e+28      \t170   \t1.01705e+76\t87.4333\t19 \t93 \t45 \t170   \t6.18592\n",
      "20 \t175   \t9.8867e+76 \t20 \t8e+78      \t8e+30      \t175   \t6.48474e+77\t89.04  \t20 \t93 \t47 \t175   \t5.14377\n",
      "21 \t178   \t6.66939e+83\t21 \t2e+86      \t8e+28      \t178   \t1.15277e+85\t90.4333\t21 \t117\t45 \t178   \t6.85217\n",
      "22 \t146   \t6.66738e+91\t22 \t2e+94      \t107.391    \t146   \t1.15277e+93\t93.2633\t22 \t117\t37 \t146   \t7.19263\n",
      "23 \t176   \t1.33382e+98\t23 \t2e+100     \t2e+44      \t176   \t1.62754e+99\t101.233\t23 \t109\t51 \t176   \t6.75368\n",
      "24 \t159   \t5.5878e+100\t24 \t2e+102     \t2.15633e+51\t159   \t2.7784e+101\t107.573\t24 \t114\t63 \t159   \t5.44897\n",
      "25 \t191   \t2.09058e+104\t25 \t2e+106     \t1e+50      \t191   \t1.98945e+105\t108.917\t25 \t115\t53 \t191   \t6.15709\n",
      "26 \t143   \t4.22154e+106\t26 \t2e+108     \t62.1644    \t143   \t2.27732e+107\t113.077\t26 \t122\t35 \t143   \t8.13905\n",
      "27 \t141   \t2.40326e+108\t27 \t2e+110     \t2e+50      \t141   \t1.62177e+109\t114.883\t27 \t140\t59 \t141   \t7.23255\n",
      "28 \t189   \t4.128e+110  \t28 \t2e+112     \t1e+48      \t189   \t2.55186e+111\t115.927\t28 \t133\t53 \t189   \t8.33874\n",
      "29 \t174   \t7.12371e+113\t29 \t2e+116     \t2.39334    \t174   \t1.15279e+115\t118.243\t29 \t125\t64 \t174   \t8.45088\n",
      "30 \t174   \t6.94621e+117\t30 \t2e+120     \t2e+62      \t174   \t1.15273e+119\t123.343\t30 \t129\t73 \t174   \t6.0552 \n",
      "31 \t156   \t6.95077e+121\t31 \t2e+124     \t2.00003e+14\t156   \t1.15272e+123\t127.117\t31 \t133\t63 \t156   \t7.07741\n",
      "32 \t160   \t2.83461e+124\t32 \t2e+126     \t2.39334    \t160   \t1.6175e+125 \t130.323\t32 \t135\t17 \t160   \t10.5324\n",
      "33 \t156   \t6.88089e+127\t33 \t2e+130     \t1.24094e+51\t156   \t1.15276e+129\t131.587\t33 \t139\t63 \t156   \t10.2698\n",
      "34 \t171   \t4.82174e+130\t34 \t2e+132     \t1e+62      \t171   \t2.54242e+131\t136.79 \t34 \t145\t65 \t171   \t8.45138\n",
      "35 \t153   \t1.83887e+132\t35 \t2e+134     \t161.043    \t153   \t1.15015e+133\t138.543\t35 \t143\t65 \t153   \t8.80008\n",
      "36 \t170   \t6.11005e+133\t36 \t2e+134     \t3.18824e+60\t170   \t9.09337e+133\t139.85 \t36 \t144\t66 \t170   \t7.90322\n",
      "37 \t174   \t3.33333e+173\t37 \t1e+176     \t2e+78      \t174   \tinf         \t141.38 \t37 \t179\t87 \t174   \t6.21146\n",
      "38 \t167   \t1.50044e+176\t38 \t1e+178     \t1.69236    \t167   \tinf         \t177.073\t38 \t181\t61 \t167   \t9.61013\n",
      "39 \t179   \t7.04506e+177\t39 \t1e+180     \t2.39334    \t179   \tinf         \t177.82 \t39 \t183\t121\t179   \t7.73095\n",
      "40 \t161   \t3.45004e+179\t40 \t1e+180     \t2.45031    \t161   \tinf         \t179.41 \t40 \t185\t54 \t161   \t10.5828\n"
     ]
    }
   ],
   "source": [
    "import operator\n",
    "import math\n",
    "import random\n",
    "\n",
    "import numpy\n",
    "\n",
    "from functools import partial\n",
    "\n",
    "from deap import algorithms\n",
    "from deap import base\n",
    "from deap import creator\n",
    "from deap import tools\n",
    "from deap import gp\n",
    "\n",
    "def protectedDiv(left, right):\n",
    "    try:\n",
    "        return left / right\n",
    "    except ZeroDivisionError:\n",
    "        return 1\n",
    "\n",
    "pset_3 = gp.PrimitiveSet(\"2VAR\", 2)\n",
    "pset_3.addPrimitive(operator.sub, 2)\n",
    "pset_3.addPrimitive(operator.mul, 2)\n",
    "pset_3.addPrimitive(protectedDiv, 2)\n",
    "pset_3.addPrimitive(operator.neg, 1)\n",
    "pset_3.addPrimitive(math.cos, 1)\n",
    "pset_3.addPrimitive(math.sin, 1)\n",
    "pset_3.addEphemeralConstant(\"rand101\", partial(random.randint, -1, 1))\n",
    "pset_3.renameArguments(ARG0='x', ARG1='y')\n",
    "\n",
    "creator.create(\"FitnessMin3\", base.Fitness, weights=(-1.0,))\n",
    "creator.create(\"Individual3\", gp.PrimitiveTree, fitness=creator.FitnessMin3)\n",
    "\n",
    "toolbox3 = base.Toolbox()\n",
    "toolbox3.register(\"expr\", gp.genHalfAndHalf, pset=pset_3, min_=1, max_=2)\n",
    "toolbox3.register(\"individual3\", tools.initIterate, creator.Individual3, toolbox3.expr)\n",
    "toolbox3.register(\"population3\", tools.initRepeat, list, toolbox3.individual3)\n",
    "toolbox3.register(\"compile\", gp.compile, pset=pset_3)\n",
    "\n",
    "def evalSymbReg(individual, points):\n",
    "    func3 = toolbox3.compile(expr=individual)\n",
    "    # La función de coste es: x**3 * 5y**2 + x/2\n",
    "    sqerrors = [(func3(x, y) - (x**3 * 5 * y**2 + x/2))**2 for x, y in points]\n",
    "    return math.fsum(sqerrors) / len(points),                                    # Cambiamos la suma para obtener funcionalidad a costa de precisión\n",
    "\n",
    "toolbox3.register(\"evaluate\", evalSymbReg, points=[(x/10., y/10.) for x in range(-10,10) for y in range(-10,10)])       # Se cambian los rangos para evitar desbordamiento de memoria\n",
    "toolbox3.register(\"select\", tools.selRoulette)\n",
    "toolbox3.register(\"mate\", gp.cxOnePoint)\n",
    "toolbox3.register(\"expr_mut\", gp.genFull, min_=5, max_=7)                       # Alteramos la capacidad de explotación del algoritmo\n",
    "toolbox3.register(\"mutate\", gp.mutUniform, expr=toolbox3.expr_mut, pset=pset_3)\n",
    "\n",
    "toolbox3.decorate(\"mate\", gp.staticLimit(key=operator.attrgetter(\"height\"), max_value=7))   # Alteramos la capacidad de exploración\n",
    "toolbox3.decorate(\"mutate\", gp.staticLimit(key=operator.attrgetter(\"height\"), max_value=7)) # Alteramos la capacidad de exploración\n",
    "\n",
    "def main():\n",
    "    random.seed(318)\n",
    "\n",
    "    pop3 = toolbox3.population3(n=300)\n",
    "    hof3 = tools.HallOfFame(1)\n",
    "\n",
    "    stats_fit3 = tools.Statistics(lambda ind: ind.fitness.values)\n",
    "    stats_size3 = tools.Statistics(len)\n",
    "    mstats3 = tools.MultiStatistics(fitness=stats_fit3, size=stats_size3)\n",
    "    mstats3.register(\"avg\", numpy.mean)\n",
    "    mstats3.register(\"std\", numpy.std)\n",
    "    mstats3.register(\"min\", numpy.min)\n",
    "    mstats3.register(\"max\", numpy.max)\n",
    "\n",
    "    pop3, log3 = algorithms.eaSimple(pop3, toolbox3, 0.5, 0.1, 40, stats=mstats3,\n",
    "                                   halloffame=hof3, verbose=True)\n",
    "    \n",
    "    return pop3, log3, hof3\n",
    "\n",
    "if __name__ == \"__main__\":\n",
    "    main()"
   ]
  },
  {
   "cell_type": "code",
   "execution_count": null,
   "metadata": {},
   "outputs": [],
   "source": []
  }
 ],
 "metadata": {
  "kernelspec": {
   "display_name": "Python 3",
   "language": "python",
   "name": "python3"
  },
  "language_info": {
   "codemirror_mode": {
    "name": "ipython",
    "version": 3
   },
   "file_extension": ".py",
   "mimetype": "text/x-python",
   "name": "python",
   "nbconvert_exporter": "python",
   "pygments_lexer": "ipython3",
   "version": "3.12.6"
  }
 },
 "nbformat": 4,
 "nbformat_minor": 2
}
